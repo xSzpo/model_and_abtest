{
 "cells": [
  {
   "cell_type": "markdown",
   "metadata": {},
   "source": [
    "4. Let’s assume an ​unengaged​ user is a churned user. Now suppose we use your model to identify unengaged users and implement some business actions try to convert them to engaged users (commonly known as reducing churn)     \n",
    "a. How would you set up a test/experiment to check whether we are actually reducing churn?      \n",
    "b. What metrics and techniques would you use to assess the impact of the business action?"
   ]
  },
  {
   "cell_type": "markdown",
   "metadata": {},
   "source": [
    "## Intro notes"
   ]
  },
  {
   "cell_type": "markdown",
   "metadata": {},
   "source": [
    "Supose that like in the last period of data that I've used to build model I've identify 13952 unengaged user.     \n",
    "I know from previouse periods analysis that around 9% of them will convert to engaged users with no extra acions.    \n",
    "\n",
    "To check if business action is working I'm going to use A/B test method.    \n",
    "\n",
    "1. First I'll try to identify a number of users (from my population) that are not included in any tests or special actions.\n",
    "\n",
    "2. Then I'll perform a simiulation to select sample size and check all asumptions. \n",
    "\n",
    "3. Then run experiment and apply my conclusion.\n",
    "\n"
   ]
  },
  {
   "cell_type": "markdown",
   "metadata": {},
   "source": [
    "# Identify users that are not involved in any other test/experiment"
   ]
  },
  {
   "cell_type": "markdown",
   "metadata": {},
   "source": [
    "Suppose that there are **6000** of users that are not involved in any other experiments."
   ]
  },
  {
   "cell_type": "markdown",
   "metadata": {},
   "source": [
    "# Experiment simulation"
   ]
  },
  {
   "cell_type": "markdown",
   "metadata": {},
   "source": [
    "**Experiment setup and initial assumptions**:      \n",
    "* method - A/B testing, \n",
    "* sample size (initially) 2000: 1000 randomly selected as champion (no action), 1000 randomly selected as challenger (applied business action), \n",
    "* H0: null hypothesis - engagement rates for the champion and challenger are equal, business action has no effect, \n",
    "* H1: alternative hypothesis - engagement rate for challenger is bigger than for challenger, business action has a positive effect. \n",
    "* significance level for the experiment - 5%, which is 95% of confidence for alternative hypothesis.   \n",
    "* minimum detectable effect - engagement rate will be higher at least + 2% point (which is ~20% rise),\n"
   ]
  },
  {
   "cell_type": "markdown",
   "metadata": {},
   "source": [
    "### a class which performing an experiments "
   ]
  },
  {
   "cell_type": "code",
   "execution_count": 1,
   "metadata": {},
   "outputs": [],
   "source": [
    "import math\n",
    "import scipy.stats\n",
    "\n",
    "\n",
    "class Experiment:\n",
    "\n",
    "    def __init__(self,\n",
    "                 significance_lvl: float,\n",
    "                 champion_size_A: int,\n",
    "                 challenger_size_B: int,\n",
    "                 expected_champion_A: float,\n",
    "                 minimum_detectable_effect: float):\n",
    "        \"\"\"Performs AB test hipotetical experiment\n",
    "\n",
    "        :param significance_lvl: Significance level for the experiment\n",
    "        :type significance_lvl: float\n",
    "        :param champion_size_A: Champion size A\n",
    "        :type champion_size_A: int\n",
    "        :param challenger_size_B: Challenger size B\n",
    "        :type challenger_size_B: int\n",
    "        :param expected_champion_A: Expected champion rate (A)\n",
    "        :type expected_champion_A: float\n",
    "        :param minimum_detectable_effect: Minimum detectable effect\n",
    "            (expected_champion_A + minimum_detectable_effect)\n",
    "        :type minimum_detectable_effect: float\n",
    "        \"\"\"\n",
    "\n",
    "        self.significance_lvl = significance_lvl\n",
    "        self.champion_size_A = champion_size_A\n",
    "        self.challenger_size_B = challenger_size_B\n",
    "        self.expected_champion_A = expected_champion_A\n",
    "        self.minimum_detectable_effect = minimum_detectable_effect\n",
    "\n",
    "    def perform(self):\n",
    "        \"\"\"Perform calculations\"\"\"\n",
    "        # calculate expected challenger rate by addind expected increase \n",
    "        # at challenger to champion rate \n",
    "        self.expected_challenger_B = self.expected_champion_A + \\\n",
    "            self.minimum_detectable_effect\n",
    "        # calculate standard error wchich is equivalent to the standard \n",
    "        # deviation of the sampling\n",
    "        self.StandardErrorA = math.sqrt(\n",
    "            self.expected_champion_A*(1-self.expected_champion_A) /\n",
    "            self.champion_size_A)\n",
    "        self.StandardErrorB = math.sqrt(\n",
    "            self.expected_challenger_B*(1-self.expected_challenger_B) /\n",
    "            self.challenger_size_B)\n",
    "        # calculate z statistic \n",
    "        self.z = abs(self.expected_challenger_B-self.expected_champion_A) /\\\n",
    "            math.sqrt(self.StandardErrorA**2+self.StandardErrorB**2)\n",
    "        # calculate p-value - the probability of gettin \n",
    "        self.p_value = scipy.stats.norm(0, 1).cdf(self.z)\n",
    "\n",
    "    def report(self):\n",
    "        \"\"\"Print raport\"\"\"\n",
    "\n",
    "        print(\"Significance level for the experiment - %0.2f\" % \\\n",
    "              self.significance_lvl)\n",
    "        print(\"Champion size A - %d\" % self.champion_size_A)\n",
    "        print(\"Challenger size B - %d\" % self.challenger_size_B)\n",
    "        print(\"Expected champion rate (A) - %0.2f\" % self.expected_champion_A)\n",
    "        print(\"Minimum detectable effect on challenger is + %0.2f -> expected \"\n",
    "              \"challenger rate (B) %0.2f\" % (self.minimum_detectable_effect,\n",
    "                                             self.expected_challenger_B))\n",
    "        print(\"StandardErrorA %0.4f (The standard deviation of the sampling) \"\n",
    "              \"distribution)\" % self.StandardErrorA)\n",
    "        print(\"StandardErrorB %0.4f (The standard deviation of the sampling) \"\n",
    "              \"distribution)\" % self.StandardErrorB)\n",
    "        print(\"Z statistic %0.6f\" % self.z)\n",
    "        print(\"P-value %0.3f\" % self.p_value)\n",
    "\n",
    "        param = {\n",
    "            \"expected_challenger_B\": self.expected_challenger_B,\n",
    "            \"expected_champion_A\": self.expected_champion_A,\n",
    "            \"p_value\": self.p_value,\n",
    "            \"significance_lvl\": self.significance_lvl\n",
    "        }\n",
    "        if self.p_value > (1-self.significance_lvl):\n",
    "            print(\"Challenger made {expected_challenger_B} engagement rate, \"\n",
    "                  \"champion {expected_champion_A}.\\n\"\n",
    "                  \"There are {p_value:.0%} certainty that engagement rate \"\n",
    "                  \"differs between champion and challenger\\n\"\n",
    "                  \"Test is statistically significant at level \"\n",
    "                  \"{significance_lvl:.0%}\".format(**param))\n",
    "        else:\n",
    "            print(\"Test is no evidence to claim that champion and \"\n",
    "                  \"challenger has different engagement rate \"\n",
    "                  \"(at significance level {:.0%}.\".\\\n",
    "                  format(self.significance_lvl))\n"
   ]
  },
  {
   "cell_type": "code",
   "execution_count": 2,
   "metadata": {},
   "outputs": [
    {
     "name": "stdout",
     "output_type": "stream",
     "text": [
      "Significance level for the experiment - 0.05\n",
      "Champion size A - 1000\n",
      "Challenger size B - 1000\n",
      "Expected champion rate (A) - 0.09\n",
      "Minimum detectable effect on challenger is + 0.02 -> expected challenger rate (B) 0.11\n",
      "StandardErrorA 0.0090 (The standard deviation of the sampling) distribution)\n",
      "StandardErrorB 0.0099 (The standard deviation of the sampling) distribution)\n",
      "Z statistic 1.491541\n",
      "P-value 0.932\n",
      "Test is no evidence to claim that champion and challenger has different engagement rate (at significance level 5%.\n"
     ]
    }
   ],
   "source": [
    "experiment_1_test = Experiment(\n",
    "    significance_lvl = 0.05, \n",
    "    champion_size_A = 1000, \n",
    "    challenger_size_B = 1000, \n",
    "    expected_champion_A = 0.09, \n",
    "    minimum_detectable_effect = 0.02)\n",
    "experiment_1_test.perform()\n",
    "experiment_1_test.report()"
   ]
  },
  {
   "attachments": {},
   "cell_type": "markdown",
   "metadata": {},
   "source": [
    "**Since my sample is too small to \"observe\" the effect that I consider as as success (+2%) at confidence 5% I need to increase the sample.**"
   ]
  },
  {
   "cell_type": "code",
   "execution_count": 3,
   "metadata": {},
   "outputs": [
    {
     "name": "stdout",
     "output_type": "stream",
     "text": [
      "Significance level for the experiment - 0.05\n",
      "Champion size A - 2000\n",
      "Challenger size B - 2000\n",
      "Expected champion rate (A) - 0.09\n",
      "Minimum detectable effect on challenger is + 0.02 -> expected challenger rate (B) 0.11\n",
      "StandardErrorA 0.0064 (The standard deviation of the sampling) distribution)\n",
      "StandardErrorB 0.0070 (The standard deviation of the sampling) distribution)\n",
      "Z statistic 2.109357\n",
      "P-value 0.983\n",
      "Challenger made 0.11 engagement rate, champion 0.09.\n",
      "There are 98% certainty that engagement rate differs between champion and challenger\n",
      "Test is statistically significant at level 5%\n"
     ]
    }
   ],
   "source": [
    "experiment_2_test = Experiment(\n",
    "    significance_lvl = 0.05, \n",
    "    champion_size_A = 2000, \n",
    "    challenger_size_B = 2000, \n",
    "    expected_champion_A = 0.09, \n",
    "    minimum_detectable_effect = 0.02)\n",
    "experiment_2_test.perform()\n",
    "experiment_2_test.report()"
   ]
  },
  {
   "attachments": {},
   "cell_type": "markdown",
   "metadata": {},
   "source": [
    "**I don't know what exactly will be my result so I increase samples up to 2000 (from 1300 required to pass test with assumed values)**"
   ]
  },
  {
   "cell_type": "markdown",
   "metadata": {},
   "source": [
    "# Experiment run"
   ]
  },
  {
   "attachments": {},
   "cell_type": "markdown",
   "metadata": {},
   "source": [
    "After I choose and check all parameters required to responsibly run AB test, I start my experiment.\n"
   ]
  },
  {
   "cell_type": "markdown",
   "metadata": {},
   "source": [
    "## scenario 1 - success\n"
   ]
  },
  {
   "attachments": {},
   "cell_type": "markdown",
   "metadata": {},
   "source": [
    "**In first theoretical scenario, challenger engagement rate is 0.1 and challenger engagement rate is 0.05 higher (0.15).**\n",
    "With samples 2 x 2000 of users there is enough evidence to claim that there is statistically significant different between sub populations, and business actions has meaningful effects on customer engagement.   \n",
    "**Now we can apply business action to all customers.**\n"
   ]
  },
  {
   "cell_type": "code",
   "execution_count": 4,
   "metadata": {},
   "outputs": [
    {
     "name": "stdout",
     "output_type": "stream",
     "text": [
      "Significance level for the experiment - 0.05\n",
      "Champion size A - 2000\n",
      "Challenger size B - 2000\n",
      "Expected champion rate (A) - 0.10\n",
      "Minimum detectable effect on challenger is + 0.05 -> expected challenger rate (B) 0.15\n",
      "StandardErrorA 0.0067 (The standard deviation of the sampling) distribution)\n",
      "StandardErrorB 0.0080 (The standard deviation of the sampling) distribution)\n",
      "Z statistic 4.794633\n",
      "P-value 1.000\n",
      "Challenger made 0.15000000000000002 engagement rate, champion 0.1.\n",
      "There are 100% certainty that engagement rate differs between champion and challenger\n",
      "Test is statistically significant at level 5%\n"
     ]
    }
   ],
   "source": [
    "experiment_1_prod = Experiment(\n",
    "    significance_lvl = 0.05, \n",
    "    champion_size_A = 2000, \n",
    "    challenger_size_B = 2000, \n",
    "    expected_champion_A = 0.1, \n",
    "    minimum_detectable_effect = 0.05)\n",
    "experiment_1_prod.perform()\n",
    "experiment_1_prod.report()"
   ]
  },
  {
   "cell_type": "markdown",
   "metadata": {},
   "source": [
    "## scenario 2 -  no success"
   ]
  },
  {
   "cell_type": "markdown",
   "metadata": {},
   "source": [
    "**In first theoretical scenario, challenger engagement rate is 0.1 and challenger engagement rate is 0.01 higher (0.11).**\n",
    "With samples 2 x 2000 of users there is **no** enough evidence to claim that there is statistically significant different between sub populations, and business actions has meaningful effects on customer engagement - at desired significance level.   \n",
    "**We and lower the significance level and accept the higher risk that 1% increase will not be observed at whole population, increase a sample size or try different business actions.**\n"
   ]
  },
  {
   "cell_type": "code",
   "execution_count": 5,
   "metadata": {},
   "outputs": [
    {
     "name": "stdout",
     "output_type": "stream",
     "text": [
      "Significance level for the experiment - 0.05\n",
      "Champion size A - 2000\n",
      "Challenger size B - 2000\n",
      "Expected champion rate (A) - 0.10\n",
      "Minimum detectable effect on challenger is + 0.01 -> expected challenger rate (B) 0.11\n",
      "StandardErrorA 0.0067 (The standard deviation of the sampling) distribution)\n",
      "StandardErrorB 0.0070 (The standard deviation of the sampling) distribution)\n",
      "Z statistic 1.031696\n",
      "P-value 0.849\n",
      "Test is no evidence to claim that champion and challenger has different engagement rate (at significance level 5%.\n"
     ]
    }
   ],
   "source": [
    "experiment_2_prod = Experiment(\n",
    "    significance_lvl = 0.05, \n",
    "    champion_size_A = 2000, \n",
    "    challenger_size_B = 2000, \n",
    "    expected_champion_A = 0.1, \n",
    "    minimum_detectable_effect = 0.01)\n",
    "experiment_2_prod.perform()\n",
    "experiment_2_prod.report()"
   ]
  }
 ],
 "metadata": {
  "kernelspec": {
   "display_name": "Python 3",
   "language": "python",
   "name": "python3"
  },
  "language_info": {
   "codemirror_mode": {
    "name": "ipython",
    "version": 3
   },
   "file_extension": ".py",
   "mimetype": "text/x-python",
   "name": "python",
   "nbconvert_exporter": "python",
   "pygments_lexer": "ipython3",
   "version": "3.7.4"
  },
  "toc": {
   "base_numbering": 1,
   "nav_menu": {},
   "number_sections": true,
   "sideBar": true,
   "skip_h1_title": false,
   "title_cell": "Table of Contents",
   "title_sidebar": "Contents",
   "toc_cell": false,
   "toc_position": {},
   "toc_section_display": true,
   "toc_window_display": false
  }
 },
 "nbformat": 4,
 "nbformat_minor": 4
}
